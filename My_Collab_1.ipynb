{
  "nbformat": 4,
  "nbformat_minor": 0,
  "metadata": {
    "colab": {
      "provenance": [],
      "collapsed_sections": [],
      "authorship_tag": "ABX9TyN+KxKQ2LQMf/BqI2iK7ZW+",
      "include_colab_link": true
    },
    "kernelspec": {
      "name": "python3",
      "display_name": "Python 3"
    },
    "language_info": {
      "name": "python"
    }
  },
  "cells": [
    {
      "cell_type": "markdown",
      "metadata": {
        "id": "view-in-github",
        "colab_type": "text"
      },
      "source": [
        "<a href=\"https://colab.research.google.com/github/Realaniket/Machine-Learning-/blob/main/My_Collab_1.ipynb\" target=\"_parent\"><img src=\"https://colab.research.google.com/assets/colab-badge.svg\" alt=\"Open In Colab\"/></a>"
      ]
    },
    {
      "cell_type": "code",
      "execution_count": null,
      "metadata": {
        "colab": {
          "base_uri": "https://localhost:8080/"
        },
        "id": "RG_13MP5oZu5",
        "outputId": "5e54dbcf-a75c-48e4-c44c-262ebfaacf3d"
      },
      "outputs": [
        {
          "output_type": "stream",
          "name": "stdout",
          "text": [
            "hello world\n",
            "beggginng of Machine Learnig\n"
          ]
        }
      ],
      "source": [
        "print(\"hello world\")\n",
        "print(\"beggginng of Machine Learnig\")"
      ]
    },
    {
      "cell_type": "code",
      "source": [
        "#calling one of the first libraries pandas  "
      ],
      "metadata": {
        "id": "Bc4YIl3Lowho"
      },
      "execution_count": null,
      "outputs": []
    },
    {
      "cell_type": "code",
      "source": [
        "import numpy as np"
      ],
      "metadata": {
        "id": "3u7QT1OCpQdN"
      },
      "execution_count": null,
      "outputs": []
    },
    {
      "cell_type": "code",
      "source": [
        "a = np.array(1) #0 dimensional - Scaler"
      ],
      "metadata": {
        "id": "MXdcmgI_pTIh"
      },
      "execution_count": null,
      "outputs": []
    },
    {
      "cell_type": "code",
      "source": [
        "a"
      ],
      "metadata": {
        "colab": {
          "base_uri": "https://localhost:8080/"
        },
        "id": "vosZ_LKcqjWU",
        "outputId": "ad78aa34-e444-4eae-8262-9fadf4d7470b"
      },
      "execution_count": null,
      "outputs": [
        {
          "output_type": "execute_result",
          "data": {
            "text/plain": [
              "array(1)"
            ]
          },
          "metadata": {},
          "execution_count": 13
        }
      ]
    },
    {
      "cell_type": "code",
      "source": [
        "a.ndim"
      ],
      "metadata": {
        "colab": {
          "base_uri": "https://localhost:8080/"
        },
        "id": "njEs6IwTqloq",
        "outputId": "5d0458fd-6926-4758-c38f-9c43c3562577"
      },
      "execution_count": null,
      "outputs": [
        {
          "output_type": "execute_result",
          "data": {
            "text/plain": [
              "0"
            ]
          },
          "metadata": {},
          "execution_count": 14
        }
      ]
    },
    {
      "cell_type": "code",
      "source": [
        "a.shape\n",
        "\n"
      ],
      "metadata": {
        "colab": {
          "base_uri": "https://localhost:8080/"
        },
        "id": "jRZJhW6oqqoo",
        "outputId": "704716c0-69a5-44bb-d462-f27bce4f390d"
      },
      "execution_count": null,
      "outputs": [
        {
          "output_type": "execute_result",
          "data": {
            "text/plain": [
              "()"
            ]
          },
          "metadata": {},
          "execution_count": 16
        }
      ]
    },
    {
      "cell_type": "code",
      "source": [
        "a.size\n"
      ],
      "metadata": {
        "colab": {
          "base_uri": "https://localhost:8080/"
        },
        "id": "kRKx8ygmqvk-",
        "outputId": "23d7f7b2-6466-410a-b88d-4a8dab9af77d"
      },
      "execution_count": null,
      "outputs": [
        {
          "output_type": "execute_result",
          "data": {
            "text/plain": [
              "1"
            ]
          },
          "metadata": {},
          "execution_count": 17
        }
      ]
    },
    {
      "cell_type": "code",
      "source": [
        "b = np.array([1,2,3,4,5])"
      ],
      "metadata": {
        "id": "zZt8xGneq0Sl"
      },
      "execution_count": null,
      "outputs": []
    },
    {
      "cell_type": "code",
      "source": [
        "b\n"
      ],
      "metadata": {
        "colab": {
          "base_uri": "https://localhost:8080/"
        },
        "id": "x0-Nj2_8q_LY",
        "outputId": "f3499261-b3e4-4994-8e0a-51d9e4663f3f"
      },
      "execution_count": null,
      "outputs": [
        {
          "output_type": "execute_result",
          "data": {
            "text/plain": [
              "array([1, 2, 3, 4, 5])"
            ]
          },
          "metadata": {},
          "execution_count": 20
        }
      ]
    },
    {
      "cell_type": "code",
      "source": [
        "d = np.random.randint(0,20,10) # to display random integers from numbers 0 to 50"
      ],
      "metadata": {
        "id": "z7wl6-6RrYJ6"
      },
      "execution_count": null,
      "outputs": []
    },
    {
      "cell_type": "code",
      "source": [
        "x = np.ones(10) #will create arrays of data ones only "
      ],
      "metadata": {
        "id": "AqXOIIeRr6eL"
      },
      "execution_count": null,
      "outputs": []
    },
    {
      "cell_type": "code",
      "source": [
        "x"
      ],
      "metadata": {
        "colab": {
          "base_uri": "https://localhost:8080/"
        },
        "id": "NTczzoSJsBiy",
        "outputId": "5bd79f30-909e-4b1e-9928-bb255913244a"
      },
      "execution_count": null,
      "outputs": [
        {
          "output_type": "execute_result",
          "data": {
            "text/plain": [
              "array([1., 1., 1., 1., 1., 1., 1., 1., 1., 1.])"
            ]
          },
          "metadata": {},
          "execution_count": 27
        }
      ]
    },
    {
      "cell_type": "code",
      "source": [
        "#IMPORTANT NOTES\n",
        "#0 is LOW state and 255 is HIGH state\n",
        "#B,G,R\n",
        "#(0,0,0) - BLACK\n",
        "#(255,255,255) - WHITE\n",
        "#(0,255,0) - GREEN\n",
        "#(255,0,0) - BLUE\n",
        "#(0,0,255) - RED\n",
        "#(0,255,255) - YELLOW"
      ],
      "metadata": {
        "id": "FdE3oxFOtOLn"
      },
      "execution_count": null,
      "outputs": []
    },
    {
      "cell_type": "code",
      "source": [
        "# Now inmporting Matplot library as plt\n",
        "\n",
        "import matplotlib.pyplot as plt"
      ],
      "metadata": {
        "id": "H_Rscwfirk87"
      },
      "execution_count": null,
      "outputs": []
    },
    {
      "cell_type": "code",
      "source": [
        "import numpy as np"
      ],
      "metadata": {
        "id": "64HS1bzhsuZ9"
      },
      "execution_count": null,
      "outputs": []
    },
    {
      "cell_type": "code",
      "source": [
        "i = np.array([[[255,255,50]]])"
      ],
      "metadata": {
        "id": "t6jwrKbbsyhQ"
      },
      "execution_count": null,
      "outputs": []
    },
    {
      "cell_type": "code",
      "source": [
        "plt.imshow(i) # So it is showing yellow colour graph background"
      ],
      "metadata": {
        "colab": {
          "base_uri": "https://localhost:8080/",
          "height": 282
        },
        "id": "CI3Sgc1Js8im",
        "outputId": "e378783d-2c5c-494d-8f6b-b5a2794ffc7a"
      },
      "execution_count": null,
      "outputs": [
        {
          "output_type": "execute_result",
          "data": {
            "text/plain": [
              "<matplotlib.image.AxesImage at 0x7f84d657f1d0>"
            ]
          },
          "metadata": {},
          "execution_count": 32
        },
        {
          "output_type": "display_data",
          "data": {
            "text/plain": [
              "<Figure size 432x288 with 1 Axes>"
            ],
            "image/png": "[encoded data removed]"
          },
          "metadata": {
            "needs_background": "light"
          }
        }
      ]
    },
    {
      "cell_type": "code",
      "source": [
        "i = np.array([[[100,255,50]]])"
      ],
      "metadata": {
        "id": "G0Z_nA9_tjkl"
      },
      "execution_count": null,
      "outputs": []
    },
    {
      "cell_type": "code",
      "source": [
        "plt.imshow(i) # green color graph background "
      ],
      "metadata": {
        "colab": {
          "base_uri": "https://localhost:8080/",
          "height": 282
        },
        "id": "hMBOTCWWtqCX",
        "outputId": "e4eaccac-7410-44fd-b3ed-a14e000dd548"
      },
      "execution_count": null,
      "outputs": [
        {
          "output_type": "execute_result",
          "data": {
            "text/plain": [
              "<matplotlib.image.AxesImage at 0x7f84d5cba990>"
            ]
          },
          "metadata": {},
          "execution_count": 34
        },
        {
          "output_type": "display_data",
          "data": {
            "text/plain": [
              "<Figure size 432x288 with 1 Axes>"
            ],
            "image/png": "[encoded data removed]"
          },
          "metadata": {
            "needs_background": "light"
          }
        }
      ]
    },
    {
      "cell_type": "code",
      "source": [
        "# so the user can display different colours"
      ],
      "metadata": {
        "id": "_5gVjTnrtywP"
      },
      "execution_count": null,
      "outputs": []
    },
    {
      "cell_type": "code",
      "source": [
        "#now to display the line graph\n",
        "import matplotlib.pyplot as plt\n",
        "x = [1,2,3,4]\n",
        "y = [5,6,7,8]\n",
        "#plt.plot(x-axis,y-axis)\n",
        "plt.plot(x,y,marker = '.')\n",
        "plt.title('LINE PLOT/GRAPH')\n",
        "plt.xlabel('X-Axis')\n",
        "plt.ylabel('Y-Axis')\n",
        "#plt.xticks(range(1,10))\n",
        "#plt.yticks(range(1,10))"
      ],
      "metadata": {
        "colab": {
          "base_uri": "https://localhost:8080/",
          "height": 312
        },
        "id": "TJjmFp94t-SD",
        "outputId": "b0402b4f-3d14-431b-c140-79700a41106b"
      },
      "execution_count": null,
      "outputs": [
        {
          "output_type": "execute_result",
          "data": {
            "text/plain": [
              "Text(0, 0.5, 'Y-Axis')"
            ]
          },
          "metadata": {},
          "execution_count": 38
        },
        {
          "output_type": "display_data",
          "data": {
            "text/plain": [
              "<Figure size 432x288 with 1 Axes>"
            ],
            "image/png": "[encoded data removed]"
          },
          "metadata": {
            "needs_background": "light"
          }
        }
      ]
    },
    {
      "cell_type": "code",
      "source": [
        "#Creating two line graph in a single plot\n",
        "#Shows analysis of two teams in a cricket match"
      ],
      "metadata": {
        "id": "kb--V9N3uJ_E"
      },
      "execution_count": null,
      "outputs": []
    },
    {
      "cell_type": "code",
      "source": [
        "import matplotlib.pyplot as plt\n",
        "overs = [0,4,8,12,16,20]\n",
        "team1 = [0,30,67,98,123,145]\n",
        "team2 = [0,27,75,103,110,135]\n",
        "plt.plot(overs,team1,label = 'Team1',marker = '*')\n",
        "plt.plot(overs,team2,label = 'Team2',marker = '.')\n",
        "plt.title('Analysis of Cricket Match')\n",
        "plt.xlabel('Overs')\n",
        "plt.ylabel('Runs')\n",
        "plt.legend()"
      ],
      "metadata": {
        "colab": {
          "base_uri": "https://localhost:8080/",
          "height": 312
        },
        "id": "TXdIl7KVvQvd",
        "outputId": "b8320a73-310e-4b3b-9935-6101cf014bdb"
      },
      "execution_count": null,
      "outputs": [
        {
          "output_type": "execute_result",
          "data": {
            "text/plain": [
              "<matplotlib.legend.Legend at 0x7f8c77b66e50>"
            ]
          },
          "metadata": {},
          "execution_count": 6
        },
        {
          "output_type": "display_data",
          "data": {
            "text/plain": [
              "<Figure size 432x288 with 1 Axes>"
            ],
            "image/png": "[encoded data removed]"
          },
          "metadata": {
            "needs_background": "light"
          }
        }
      ]
    },
    {
      "cell_type": "code",
      "source": [],
      "metadata": {
        "id": "Su0lolpPwwf2"
      },
      "execution_count": null,
      "outputs": []
    }
  ]
}